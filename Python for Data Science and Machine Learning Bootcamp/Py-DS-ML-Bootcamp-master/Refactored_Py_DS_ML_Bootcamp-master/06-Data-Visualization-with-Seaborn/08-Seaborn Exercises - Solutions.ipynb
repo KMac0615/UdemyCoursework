{
 "cells": [
  {
   "cell_type": "markdown",
   "metadata": {},
   "source": [
    "___\n",
    "\n",
    "<a href='http://www.pieriandata.com'> <img src='../Pierian_Data_Logo.png' /></a>\n",
    "___\n",
    "# Seaborn Exercises - Solutions\n",
    "\n",
    "Time to practice your new seaborn skills! Try to recreate the plots below (don't worry about color schemes, just the plot itself."
   ]
  },
  {
   "cell_type": "markdown",
   "metadata": {},
   "source": [
    "## The Data\n",
    "\n",
    "We will be working with a famous titanic data set for these exercises. Later on in the Machine Learning section of the course, we will revisit this data, and use it to predict survival rates of passengers. For now, we'll just focus on the visualization of the data with seaborn:"
   ]
  },
  {
   "cell_type": "code",
   "execution_count": null,
   "metadata": {},
   "outputs": [],
   "source": [
    "import seaborn as sns\n",
    "import matplotlib.pyplot as plt\n",
    "%matplotlib inline"
   ]
  },
  {
   "cell_type": "code",
   "execution_count": null,
   "metadata": {},
   "outputs": [],
   "source": [
    "sns.set_style('whitegrid')"
   ]
  },
  {
   "cell_type": "code",
   "execution_count": null,
   "metadata": {},
   "outputs": [],
   "source": [
    "titanic = sns.load_dataset('titanic')"
   ]
  },
  {
   "cell_type": "code",
   "execution_count": null,
   "metadata": {},
   "outputs": [],
   "source": [
    "titanic.head()"
   ]
  },
  {
   "cell_type": "markdown",
   "metadata": {},
   "source": [
    "# Exercises\n",
    "\n",
    "** Recreate the plots below using the titanic dataframe. There are very few hints since most of the plots can be done with just one or two lines of code and a hint would basically give away the solution. Keep careful attention to the x and y labels for hints.**\n",
    "\n",
    "** *Note! In order to not lose the plot image, make sure you don't code in the cell that is directly above the plot, there is an extra cell above that one which won't overwrite that plot!* **"
   ]
  },
  {
   "cell_type": "code",
   "execution_count": null,
   "metadata": {},
   "outputs": [],
   "source": [
    "# CODE HERE\n",
    "# REPLICATE EXERCISE PLOT IMAGE BELOW\n",
    "# BE CAREFUL NOT TO OVERWRITE CELL BELOW\n",
    "# THAT WOULD REMOVE THE EXERCISE PLOT IMAGE!"
   ]
  },
  {
   "cell_type": "code",
   "execution_count": null,
   "metadata": {},
   "outputs": [],
   "source": [
    "sns.jointplot(x='fare',y='age',data=titanic)"
   ]
  },
  {
   "cell_type": "code",
   "execution_count": null,
   "metadata": {},
   "outputs": [],
   "source": [
    "# CODE HERE\n",
    "# REPLICATE EXERCISE PLOT IMAGE BELOW\n",
    "# BE CAREFUL NOT TO OVERWRITE CELL BELOW\n",
    "# THAT WOULD REMOVE THE EXERCISE PLOT IMAGE!"
   ]
  },
  {
   "cell_type": "code",
   "execution_count": null,
   "metadata": {},
   "outputs": [],
   "source": [
    "sns.distplot(titanic['fare'],bins=30,kde=False,color='red')"
   ]
  },
  {
   "cell_type": "code",
   "execution_count": null,
   "metadata": {},
   "outputs": [],
   "source": [
    "# CODE HERE\n",
    "# REPLICATE EXERCISE PLOT IMAGE BELOW\n",
    "# BE CAREFUL NOT TO OVERWRITE CELL BELOW\n",
    "# THAT WOULD REMOVE THE EXERCISE PLOT IMAGE!"
   ]
  },
  {
   "cell_type": "code",
   "execution_count": null,
   "metadata": {},
   "outputs": [],
   "source": [
    "sns.boxplot(x='class',y='age',data=titanic,palette='rainbow')"
   ]
  },
  {
   "cell_type": "code",
   "execution_count": null,
   "metadata": {},
   "outputs": [],
   "source": [
    "# CODE HERE\n",
    "# REPLICATE EXERCISE PLOT IMAGE BELOW\n",
    "# BE CAREFUL NOT TO OVERWRITE CELL BELOW\n",
    "# THAT WOULD REMOVE THE EXERCISE PLOT IMAGE!"
   ]
  },
  {
   "cell_type": "code",
   "execution_count": null,
   "metadata": {},
   "outputs": [],
   "source": [
    "sns.swarmplot(x='class',y='age',data=titanic,palette='Set2')"
   ]
  },
  {
   "cell_type": "code",
   "execution_count": null,
   "metadata": {},
   "outputs": [],
   "source": [
    "# CODE HERE\n",
    "# REPLICATE EXERCISE PLOT IMAGE BELOW\n",
    "# BE CAREFUL NOT TO OVERWRITE CELL BELOW\n",
    "# THAT WOULD REMOVE THE EXERCISE PLOT IMAGE!"
   ]
  },
  {
   "cell_type": "code",
   "execution_count": null,
   "metadata": {},
   "outputs": [],
   "source": [
    "sns.countplot(x='sex',data=titanic)"
   ]
  },
  {
   "cell_type": "code",
   "execution_count": null,
   "metadata": {},
   "outputs": [],
   "source": [
    "# CODE HERE\n",
    "# REPLICATE EXERCISE PLOT IMAGE BELOW\n",
    "# BE CAREFUL NOT TO OVERWRITE CELL BELOW\n",
    "# THAT WOULD REMOVE THE EXERCISE PLOT IMAGE!"
   ]
  },
  {
   "cell_type": "code",
   "execution_count": null,
   "metadata": {},
   "outputs": [],
   "source": [
    "sns.heatmap(titanic.corr(),cmap='coolwarm')\n",
    "plt.title('titanic.corr()')"
   ]
  },
  {
   "cell_type": "code",
   "execution_count": null,
   "metadata": {},
   "outputs": [],
   "source": [
    "# CODE HERE\n",
    "# REPLICATE EXERCISE PLOT IMAGE BELOW\n",
    "# BE CAREFUL NOT TO OVERWRITE CELL BELOW\n",
    "# THAT WOULD REMOVE THE EXERCISE PLOT IMAGE!"
   ]
  },
  {
   "cell_type": "code",
   "execution_count": null,
   "metadata": {},
   "outputs": [],
   "source": [
    "g = sns.FacetGrid(data=titanic,col='sex')\n",
    "g.map(plt.hist,'age')"
   ]
  },
  {
   "cell_type": "markdown",
   "metadata": {},
   "source": [
    "# Great Job!\n",
    "\n",
    "### That is it for now! We'll see a lot more of seaborn practice problems in the machine learning section!"
   ]
  }
 ],
 "metadata": {
  "kernelspec": {
   "display_name": "Python 3",
   "language": "python",
   "name": "python3"
  },
  "language_info": {
   "codemirror_mode": {
    "name": "ipython",
    "version": 3
   },
   "file_extension": ".py",
   "mimetype": "text/x-python",
   "name": "python",
   "nbconvert_exporter": "python",
   "pygments_lexer": "ipython3",
   "version": "3.5.1"
  }
 },
 "nbformat": 4,
 "nbformat_minor": 0
}
